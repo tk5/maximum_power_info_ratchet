{
 "cells": [
  {
   "cell_type": "markdown",
   "id": "extra-hybrid",
   "metadata": {},
   "source": [
    "# Setting up"
   ]
  },
  {
   "cell_type": "code",
   "execution_count": 1,
   "id": "younger-engineering",
   "metadata": {},
   "outputs": [
    {
     "name": "stdout",
     "output_type": "stream",
     "text": [
      "Using matplotlib backend: MacOSX\n",
      "Populating the interactive namespace from numpy and matplotlib\n"
     ]
    }
   ],
   "source": [
    "%pylab"
   ]
  },
  {
   "cell_type": "code",
   "execution_count": 2,
   "id": "offensive-property",
   "metadata": {},
   "outputs": [],
   "source": [
    "%matplotlib inline"
   ]
  },
  {
   "cell_type": "code",
   "execution_count": 118,
   "id": "posted-client",
   "metadata": {},
   "outputs": [],
   "source": [
    "from scipy.sparse.linalg import eigs\n",
    "from scipy.integrate import trapz, dblquad\n",
    "from scipy.special import erf, erfc, xlogy\n",
    "from scipy.constants import Boltzmann as kB, g as g_earth\n",
    "from scipy.optimize import minimize_scalar"
   ]
  },
  {
   "cell_type": "code",
   "execution_count": 48,
   "id": "generous-exhibit",
   "metadata": {},
   "outputs": [],
   "source": [
    "params = {\n",
    "    \"backend\": \"MacOSX\",\n",
    "    \"font.family\": \"sans-serif\",\n",
    "    \"text.usetex\": True,\n",
    "    \"mathtext.fontset\": \"cm\",\n",
    "    \"text.latex.preamble\": \"\\n\".join([\n",
    "            r\"\\usepackage{amsmath}\", r\"\\usepackage{lmodern}\",\n",
    "            r\"\\usepackage{siunitx}\", r\"\\usepackage{units}\",\n",
    "            r\"\\usepackage{physics}\", r\"\\usepackage{bm}\",\n",
    "            r\"\\usepackage{nicefrac}\", r\"\\usepackage{amssymb}\"\n",
    "        ]),\n",
    "    \"figure.figsize\": [6, 6],\n",
    "    \"lines.linewidth\": 3.0,\n",
    "    \"lines.markersize\": 5.0,\n",
    "    \"axes.spines.top\": False,\n",
    "    \"axes.spines.right\": False,\n",
    "    \"axes.labelsize\": 28,\n",
    "    \"axes.formatter.limits\": [-4, 4],\n",
    "    \"xtick.labelsize\": 20,\n",
    "    \"ytick.labelsize\": 20,\n",
    "    \"xtick.minor.visible\": True,\n",
    "    \"ytick.minor.visible\": True,\n",
    "    \"hist.bins\": \"auto\",\n",
    "    \"errorbar.capsize\": 5.0,\n",
    "    }\n",
    "\n",
    "matplotlib.rcParams.update(params)"
   ]
  },
  {
   "cell_type": "code",
   "execution_count": 80,
   "id": "requested-interaction",
   "metadata": {},
   "outputs": [],
   "source": [
    "set_printoptions(linewidth=400, formatter={\"float_kind\": lambda x: \"%.5f\" % x})"
   ]
  },
  {
   "cell_type": "code",
   "execution_count": 4,
   "id": "invisible-timeline",
   "metadata": {},
   "outputs": [],
   "source": [
    "def N_distr(x, mu, sigma2):\n",
    "    \"\"\"Return the normal distribution with mean mu and variance sigma2.\"\"\"\n",
    "    return exp(-0.5*((x-mu)**2)/sigma2)/sqrt(2.0*pi*sigma2)"
   ]
  },
  {
   "cell_type": "markdown",
   "id": "optical-productivity",
   "metadata": {},
   "source": [
    "# Main text ($\\sigma_{m} = 0$)"
   ]
  },
  {
   "cell_type": "markdown",
   "id": "gorgeous-minority",
   "metadata": {},
   "source": [
    "## Figure 3A"
   ]
  },
  {
   "cell_type": "markdown",
   "id": "sitting-thong",
   "metadata": {},
   "source": [
    "We outline below the computations to get the theoretical curve in Fig. 3A of our manuscript."
   ]
  },
  {
   "cell_type": "code",
   "execution_count": 26,
   "id": "cardiovascular-africa",
   "metadata": {},
   "outputs": [],
   "source": [
    "def compute_clean_T(xnpr, v, dg, dt):\n",
    "    \"\"\"Return the propagator (Eq. S22) for xnpr = x_{n^{+}}^{r}.\"\"\"\n",
    "    return (\n",
    "        heaviside(-v[None, :], 0.0)*N_distr(\n",
    "            xnpr[:, None], (v[None, :]+dg)*exp(-dt) - dg, 1.0-exp(-2.0*dt)\n",
    "            )\n",
    "        + heaviside(v[None, :], 0.0)*N_distr(\n",
    "            xnpr[:, None], -dg - (v[None, :]-dg)*exp(-dt), 1.0-exp(-2.0*dt)\n",
    "            )\n",
    "        )*abs(xnpr[1]-xnpr[0])"
   ]
  },
  {
   "cell_type": "code",
   "execution_count": 27,
   "id": "entire-leonard",
   "metadata": {},
   "outputs": [],
   "source": [
    "def compute_clean_Ttilde(xnr, u, dg, dt):\n",
    "    \"\"\"Return the propagator (Eq. S23) for xnr = x_{n}^{r}.\"\"\"\n",
    "    return heaviside(-xnr[:, None], 0.0)*(\n",
    "        N_distr(xnr[:, None], dg - (u[None, :]+dg)*exp(-dt), 1.0-exp(-2.0*dt))\n",
    "        + N_distr(xnr[:, None], (u[None, :]+dg)*exp(-dt) - dg, 1.0-exp(-2.0*dt))\n",
    "        )*abs(xnr[1]-xnr[0])"
   ]
  },
  {
   "cell_type": "code",
   "execution_count": 28,
   "id": "rubber-spelling",
   "metadata": {},
   "outputs": [],
   "source": [
    "def find_clean_steady_states(out_grid, in_grid, dg, dt, TOL=1e-3):\n",
    "    \"\"\"Find and return the steady-state distributions for xnpr and xnr.\"\"\"\n",
    "\n",
    "    # compute transition matrices\n",
    "    T_clean = compute_clean_T(out_grid, in_grid, dg, dt)\n",
    "    Ttilde_clean = compute_clean_Ttilde(out_grid, in_grid, dg, dt)\n",
    "\n",
    "    # find the 3 largest eigenvalues and associated eigenvectors\n",
    "    p0 = N_distr(out_grid, 0.0, 1.0) # starting guess is standard Gaussian\n",
    "    w_xnpr, v_xnpr = eigs(T_clean, k=3, v0=p0)\n",
    "    w_xnr, v_xnr = eigs(Ttilde_clean, k=3, v0=p0)\n",
    "\n",
    "    # find the eigenvector with eigenvalue 1\n",
    "    p_xnpr = v_xnpr[:, where((w_xnpr - 1.0).__abs__() < TOL)[0][0]]\n",
    "    p_xnr = v_xnr[:, where((w_xnr - 1.0).__abs__() < TOL)[0][0]]\n",
    "\n",
    "    # re-normalize the eigenvectors to make them into distributions\n",
    "    p_xnpr /= trapz(p_xnpr, out_grid)\n",
    "    p_xnr /= trapz(p_xnr, out_grid)\n",
    "\n",
    "    return p_xnpr.real, p_xnr.real"
   ]
  },
  {
   "cell_type": "code",
   "execution_count": 41,
   "id": "northern-fishing",
   "metadata": {},
   "outputs": [],
   "source": [
    "def compute_means(dg=0.8, nscan=40):\n",
    "    \"\"\"Run the calculation that gives you the steady-state\n",
    "    average power as a function of sampling time.\"\"\"\n",
    "\n",
    "    # set up the grid over to discretize equations over\n",
    "    grid_to = grid_from = linspace(-20.0, 20.0, 2000)\n",
    "    times = logspace(-3.0, 2.0, nscan)\n",
    "    mean_powers_out = zeros(int(nscan))\n",
    "    \n",
    "    for idx, time in enumerate(times):\n",
    "\n",
    "        p_xnpr, p_xnr = find_clean_steady_states(grid_to, grid_from, dg, time)\n",
    "\n",
    "        # compute the mean work\n",
    "        mean_powers_out[idx] = dg*(trapz(grid_to*p_xnpr, grid_to) - trapz(grid_to*p_xnr, grid_to))/time\n",
    "        \n",
    "    return column_stack((times, mean_powers_out))"
   ]
  },
  {
   "cell_type": "code",
   "execution_count": 33,
   "id": "eastern-toyota",
   "metadata": {},
   "outputs": [],
   "source": [
    "def get_clean_limits(times, dg=0.8):\n",
    "    \n",
    "    W_eq = sqrt(2.0/pi)*dg*exp(-0.5*(dg**2)) + (dg**2)*(erf(sqrt(0.5)*dg)-1.0)\n",
    "    P_eq = W_eq/times\n",
    "    \n",
    "    P_infty = sqrt(2.0/pi)*dg*exp(-0.5*(dg**2))/(1+erf(sqrt(0.5)*dg))\n",
    "    \n",
    "    return P_eq, P_infty"
   ]
  },
  {
   "cell_type": "markdown",
   "id": "billion-conflict",
   "metadata": {},
   "source": [
    "Getting out the results for the parameters used in Fig. 3A"
   ]
  },
  {
   "cell_type": "code",
   "execution_count": 42,
   "id": "guilty-constant",
   "metadata": {},
   "outputs": [],
   "source": [
    "clean_results = compute_means()\n",
    "quasistatic_limit, infty_limit = get_clean_limits(clean_results[:,0])"
   ]
  },
  {
   "cell_type": "markdown",
   "id": "known-boating",
   "metadata": {},
   "source": [
    "Given the results, we now re-plot the theory curve in Fig. 3A"
   ]
  },
  {
   "cell_type": "code",
   "execution_count": 64,
   "id": "south-liberal",
   "metadata": {},
   "outputs": [
    {
     "data": {
      "image/png": "[encoded data removed]",
      "text/plain": [
       "<Figure size 432x432 with 1 Axes>"
      ]
     },
     "metadata": {
      "needs_background": "light"
     },
     "output_type": "display_data"
    }
   ],
   "source": [
    "fig, ax = subplots(1, 1)\n",
    "\n",
    "# plotting the results of numerical computation\n",
    "ax.plot(1.0/clean_results[::-1,0], clean_results[::-1,1], \"k\", lw=3.0)\n",
    "\n",
    "# plotting the theoretical asymptotic behaviors\n",
    "ax.axhline(infty_limit, color=\"lightgray\", ls=\":\", zorder=3)\n",
    "ax.plot(1.0/clean_results[::-1, 0], quasistatic_limit[::-1], color=\"lightgray\", ls=\"--\", zorder=3)\n",
    "\n",
    "# making the plot look nice\n",
    "ax.set_yscale(\"log\")\n",
    "ax.set_ylim((5e-3, 0.5))\n",
    "ax.set_xscale(\"log\")\n",
    "ax.set_xlim((3e-2, 1e3))\n",
    "ax.set_ylabel(r\"$P\\ \\left[k_{\\mathrm{B}}T/\\tau_{\\mathrm{R}}\\right]$\", fontsize=22, labelpad=8)\n",
    "ax.set_xlabel(r\"$f_{\\mathrm{s}}$\", fontsize=22, labelpad=8)\n",
    "ax.tick_params(labelsize=20)\n",
    "fig.tight_layout()"
   ]
  },
  {
   "cell_type": "markdown",
   "id": "excellent-cylinder",
   "metadata": {},
   "source": [
    "We can also look at the velocity $v$ as a function of the sampling frequency $f_{\\mathrm{s}}$; however, since $P$ and $v$ are related simply by a multiplicative factor of $\\delta_{\\mathrm{g}}$ then the curve will look qualitatively the same but will be shifted vertically from the $P$ vs. $f_{\\mathrm{s}}$ (on a log-log scale) by an amount $-\\log\\delta_{\\mathrm{g}}$."
   ]
  },
  {
   "cell_type": "markdown",
   "id": "studied-immigration",
   "metadata": {},
   "source": [
    "## Figure 3B"
   ]
  },
  {
   "cell_type": "markdown",
   "id": "saved-haven",
   "metadata": {},
   "source": [
    "Now we outline the calculations for Figure 3B:"
   ]
  },
  {
   "cell_type": "code",
   "execution_count": 71,
   "id": "imperial-generation",
   "metadata": {},
   "outputs": [],
   "source": [
    "def compute_pow_v_thresh(dg=0.8, nscan=40):\n",
    "    \n",
    "    \"\"\"Compute the power vs. threshold curve by evaluating the mean first-passage time\n",
    "    through the integral formula (Eq. 9)\"\"\"\n",
    "\n",
    "    V = lambda x: (0.5*x + dg)*x # define the potential to be integrated\n",
    "\n",
    "    theory_curve = zeros(nscan)\n",
    "    threshold_values = linspace(1e-3, 3.0, theory_curve.size)\n",
    "    for idx, Xt in enumerate(threshold_values):\n",
    "        theory_curve[idx], _ = dblquad(\n",
    "            lambda y, x: exp(V(x)-V(y)),\n",
    "            -Xt, Xt,\n",
    "            lambda x: -800.0, # setting to something really large and negative to replicate -\\infty\n",
    "            lambda x: x\n",
    "        )\n",
    "    \n",
    "    mean_powers_out = dg*(2.0*(threshold_values)/theory_curve)\n",
    "    \n",
    "    return column_stack((threshold_values, mean_powers_out))"
   ]
  },
  {
   "cell_type": "code",
   "execution_count": 72,
   "id": "confirmed-girlfriend",
   "metadata": {},
   "outputs": [],
   "source": [
    "clean_results_thresh = compute_pow_v_thresh()"
   ]
  },
  {
   "cell_type": "code",
   "execution_count": 73,
   "id": "solved-bernard",
   "metadata": {},
   "outputs": [
    {
     "data": {
      "image/png": "[encoded data removed]",
      "text/plain": [
       "<Figure size 432x432 with 1 Axes>"
      ]
     },
     "metadata": {
      "needs_background": "light"
     },
     "output_type": "display_data"
    }
   ],
   "source": [
    "fig, ax = subplots(1, 1)\n",
    "\n",
    "ax.plot(clean_results_thresh[:,0], clean_results_thresh[:,1], lw=3.0)\n",
    "\n",
    "ax.axhline(infty_limit, color=\"lightgray\", ls=\":\", zorder=3)\n",
    "ax.axhline(0.0, color=\"lightgray\", ls=\"--\", zorder=3, lw=1.0)\n",
    "\n",
    "ax.tick_params(labelsize=20)\n",
    "ax.set_xticks([0.0, 1.0, 2.0, 3.0])\n",
    "ax.set_xticklabels([r\"$0$\", r\"$1$\", r\"$2$\", r\"$3$\"])\n",
    "ax.set_xlim((0.0, 2.5))\n",
    "\n",
    "\n",
    "ax.set_ylabel(r\"$P\\ \\left[k_{\\mathrm{B}}T/\\tau_{\\mathrm{R}}\\right]$\", fontsize=22, labelpad=8)\n",
    "ax.set_xlabel(r\"$X_{\\mathrm{T}}$\", fontsize=22)\n",
    "fig.tight_layout()"
   ]
  },
  {
   "cell_type": "markdown",
   "id": "cheap-billion",
   "metadata": {},
   "source": [
    "# Supplementary Material"
   ]
  },
  {
   "cell_type": "markdown",
   "id": "hollywood-graphics",
   "metadata": {},
   "source": [
    "Now we run through the computations that are outlined primarily in the Supplemental Material"
   ]
  },
  {
   "cell_type": "markdown",
   "id": "surrounded-nomination",
   "metadata": {},
   "source": [
    "## Section L"
   ]
  },
  {
   "cell_type": "markdown",
   "id": "mysterious-medicare",
   "metadata": {},
   "source": [
    "Here we run through the computations that generate Table S1."
   ]
  },
  {
   "cell_type": "code",
   "execution_count": 87,
   "id": "alpine-mozambique",
   "metadata": {},
   "outputs": [],
   "source": [
    "def get_tbl_S1():\n",
    "    # ============= DEFINE PROPERTIES ==============\n",
    "\n",
    "    # define bead properties\n",
    "    diameters = array([0.5, 1.5, 3.0, 5.0])*1e-6\n",
    "    r = diameters*0.5 #radius\n",
    "    mass = array([6.54e-17, 1.73e-15, 1.41e-14, 6.54e-14])\n",
    "    gamma = array([4.20e-9, 1.25e-8, 2.52e-8, 4.19e-8])\n",
    "\n",
    "    # define medium properties\n",
    "    eta = 8.9e-4 # dynamic viscosity of water\n",
    "    rho_f = 1e3 # density of water\n",
    "    kT = kB*(293.0) # assume temperature of 20 degrees celcius\n",
    "    beta = kT**(-1)\n",
    "\n",
    "    # ============= COMPUTE QUANTITIES ==============\n",
    "\n",
    "    # define S^{2} = tau_{f}/tau_{r} and Q^{2} = tau_{v}/tau_{r}\n",
    "    Sval = 1.0\n",
    "    Qval = 1.0\n",
    "\n",
    "    # compute the fluid and velocity relaxation time scales\n",
    "    tau_f = (r**2)*rho_f/eta\n",
    "    tau_v = mass/gamma\n",
    "\n",
    "    # compute critical kappa values for Q = Qval = 1 and S = Sval = 1\n",
    "    kf = ((Sval**2)*gamma*eta)/((r**2)*rho_f)\n",
    "    kv = ((Qval**2)*(gamma**2))/mass\n",
    "\n",
    "    # compute delta values associated with kf and kv\n",
    "    delta_s = mass*g_earth*sqrt(beta/kf)\n",
    "    delta_q = mass*g_earth*sqrt(beta/kv)\n",
    "\n",
    "    # compute velocity and power associated with critical kappa\n",
    "    v_s = sqrt(2.0/pi)*exp(-0.5*(delta_s**2))*(1.0/sqrt(beta*kf)) / ((gamma/kf)*(1.0+erf(delta_s/sqrt(2.0))))\n",
    "    pows_s = sqrt(2.0/pi)*delta_s*exp(-0.5*(delta_s**2)) / ((gamma/kf)*(1.0+erf(delta_s/sqrt(2.0))))\n",
    "    \n",
    "    # return in corresponding units to Table\n",
    "    return vstack((diameters/1e-6, tau_f/1e-6, tau_v/1e-6, kf/1e-6, v_s/1e-6, pows_s))"
   ]
  },
  {
   "cell_type": "code",
   "execution_count": 88,
   "id": "coastal-return",
   "metadata": {},
   "outputs": [
    {
     "data": {
      "text/plain": [
       "array([[0.50000, 1.50000, 3.00000, 5.00000],\n",
       "       [0.07022, 0.63202, 2.52809, 7.02247],\n",
       "       [0.01557, 0.13840, 0.55952, 1.56086],\n",
       "       [59808.00000, 19777.77778, 9968.00000, 5966.56000],\n",
       "       [2954.82370, 570.08120, 197.57681, 84.03243],\n",
       "       [468.46710, 2390.85145, 6753.43699, 13322.76756]])"
      ]
     },
     "execution_count": 88,
     "metadata": {},
     "output_type": "execute_result"
    }
   ],
   "source": [
    "get_tbl_S1()"
   ]
  },
  {
   "cell_type": "markdown",
   "id": "broke-expense",
   "metadata": {},
   "source": [
    "## Section N ($\\sigma_{m}\\neq 0$)"
   ]
  },
  {
   "cell_type": "markdown",
   "id": "fixed-marshall",
   "metadata": {},
   "source": [
    "In this section we work out the efficiency of our engine by considering the case where we have noisy measurements as modeled by a Gaussian noise kernel with mean zero and variance $\\sigma_{\\mathrm{m}}^{2}$ (ie. $p(y|x) = \\mathcal{N}(y|x, \\sigma_{\\mathrm{m}}^{2})$)"
   ]
  },
  {
   "cell_type": "markdown",
   "id": "played-still",
   "metadata": {},
   "source": [
    "Given this noise model the relative coordinates have new propagators. For detailed derivations of these propagators see associated Mathematica \"propagators.nb\" notebook."
   ]
  },
  {
   "cell_type": "code",
   "execution_count": 135,
   "id": "tracked-offset",
   "metadata": {},
   "outputs": [],
   "source": [
    "def compute_noisy_T(xkpr, u, dg=0.8, sg=0.1, t=1e-3, alpha=2):\n",
    "    \"\"\"Return the propagator (Eq. S22) for xkpr = x_{n^{+}}^{r} but for noisy measurements.\"\"\"\n",
    "    return (\n",
    "            (exp(t - (-dg + (-1 + alpha)*u[None,:] + exp(t)*(dg + xkpr[:,None]))**2/(2.*(-1 + exp(2*t) + (alpha**2)*(sg**2))))*(1 + erf(((-1 + exp(2*t) + alpha*(sg**2))*u[None,:] + alpha*(sg**2)*(dg - exp(t)*(dg + xkpr[:,None])))/(sqrt(2)*sg*sqrt((-1 + exp(2*t))*(-1 + exp(2*t) + (alpha**2)*(sg**2)))))))/(2.*sqrt(2*pi)*sqrt(-1 + exp(2*t) + (alpha**2)*(sg**2))) + \n",
    "            (exp(t/2. - ((dg + u[None,:] - exp(t)*(dg + xkpr[:,None]))**2/sinh(t))/(4.*exp(t)))*(1 - erf(u[None,:]/(sqrt(2)*sg))))/(4.*sqrt(pi)*sqrt(sinh(t)))\n",
    "        )*abs(xkpr[1]-xkpr[0])"
   ]
  },
  {
   "cell_type": "code",
   "execution_count": 136,
   "id": "median-pound",
   "metadata": {},
   "outputs": [],
   "source": [
    "def compute_noisy_Ttilde(xkr, v, dg=0.8, sig=0.1, t=1e-3, alpha=2):\n",
    "    \"\"\"Return the propagator (Eq. S23) for xkr = x_{n}^{r} but for noisy measurements.\"\"\"\n",
    "    return (\n",
    "        -(exp(t/2. - ((dg + v[None,:] - exp(t)*(dg + xkr[:,None]))**2/sinh(t))/(4.*exp(t)))*(-1 + erf(xkr[:,None]/(sqrt(2)*sig))))/(4.*sqrt(pi)*sqrt(sinh(t))) + \n",
    "        (exp((4*t - (2*xkr[:,None]**2)/((alpha**2)*(sig**2)) - ((dg - dg*exp(t) + v[None,:])**2/sinh(t))/exp(t) + ((1.0/sinh(t))*((alpha**2)*(sig**2)*(dg - dg*exp(t) + v[None,:]) - 2*(-1 + alpha)*xkr[:,None]*sinh(t))**2)/((alpha**2)*(sig**2)*((alpha**2)*(sig**2)*cosh(t) + (2 + alpha*(-4 + alpha*(2 + (sig**2))))*sinh(t))))/4.)*(-1 + (1.0/tanh(t)))*\n",
    "        ((1.0/sinh(t))*(-2 + exp(2*t)*(1 + erf((-((alpha**2)*exp(t)*(sig**2)*(dg*(-1 + exp(t)) - v[None,:])) + (-1 + alpha)*(1 - exp(2*t))*xkr[:,None])/(sqrt(2)*alpha*sig*sqrt((-1 + exp(2*t))*(-(-1 + alpha)**2 + exp(2*t)*(1 + alpha*(-2 + alpha + alpha*(sig**2)))))))) + \n",
    "        erfc((exp(t)*((alpha**2)*(sig**2)*(dg - dg*exp(t) + v[None,:]) - 2*(-1 + alpha)*xkr[:,None]*sinh(t)))/(sqrt(2)*alpha*sig*sqrt((-1 + exp(2*t))*(-(-1 + alpha)**2 + exp(2*t)*(1 + alpha*(-2 + alpha + alpha*(sig**2)))))))) + \n",
    "        2*exp(t)*erf((abs((alpha**2)*exp(t)*(sig**2)*(dg*(-1 + exp(t)) - v[None,:]) + (-1 + alpha)*(-1 + exp(2*t))*xkr[:,None])*sqrt(2 + alpha*(-4 + alpha*(2 + (sig**2))) + (alpha**2)*(sig**2)*(1.0/tanh(t))))/(2.*alpha*sig*(-(-1 + alpha)**2 + exp(2*t)*(1 + alpha*(-2 + alpha + alpha*(sig**2))))))*\n",
    "        sign((alpha**2)*exp(t)*(sig**2)*(dg*(-1 + exp(t)) - v[None,:]) + (-1 + alpha)*(-1 + exp(2*t))*xkr[:,None]) - 2*exp(t)*erf((abs(alpha*exp(t)*(sig**2)*(dg*(-1 + exp(t)) - v[None,:]) + xkr[:,None] - alpha*xkr[:,None] + exp(2*t)*(-1 + alpha + alpha*(sig**2))*xkr[:,None])*sqrt(2 + alpha*(-4 + alpha*(2 + (sig**2))) + (alpha**2)*(sig**2)*(1.0/tanh(t))))/\n",
    "        (2.*exp(t)*((alpha**2)*exp(t)*(sig**3) + 2*(-1 + alpha)**2*sig*sinh(t))))*sign(alpha*exp(t)*(sig**2)*(dg*(-1 + exp(t)) - v[None,:]) + xkr[:,None] - alpha*xkr[:,None] + exp(2*t)*(-1 + alpha + alpha*(sig**2))*xkr[:,None]))*sinh(t))/(4.*sqrt(-2*(-1 + alpha)**2*pi + 2*exp(2*t)*pi*(1 + alpha*(-2 + alpha + alpha*(sig**2)))))\n",
    "    )*abs(xkr[1]-xkr[0])"
   ]
  },
  {
   "cell_type": "code",
   "execution_count": 137,
   "id": "adopted-insulin",
   "metadata": {},
   "outputs": [],
   "source": [
    "def find_noisy_steady_states(out_grid, in_grid, dg=0.8, sg=0.1, dt=1e-3, alpha=2.0, TOL=5e-3):\n",
    "    \"\"\"Find and return the steady-state distributions for xnpr and xnr given noisy measurements.\"\"\"\n",
    "\n",
    "    # compute transition matrices\n",
    "    T = compute_noisy_T(out_grid, in_grid, dg, sg, dt, alpha)\n",
    "    Ttilde = compute_noisy_Ttilde(out_grid, in_grid, dg, sg, dt, alpha)\n",
    "\n",
    "    # find the 3 largest eigenvalues and associated eigenvectors\n",
    "    p0 = N_distr(out_grid, 0.0, 1.0) # use equilibrium as a starting guess for iteration\n",
    "    wT_ss, vT_ss = eigs(T, k=3, v0=p0)\n",
    "    wTtilde_ss, vTtilde_ss = eigs(Ttilde, k=3, v0=p0)\n",
    "\n",
    "    # find the eigenvector with eigenvalue 1\n",
    "    p_xnpr = vT_ss[:, where((wT_ss - 1.0).__abs__() < TOL)[0][0]]\n",
    "    p_xnr = vTtilde_ss[:, where((wTtilde_ss - 1.0).__abs__() < TOL)[0][0]]\n",
    "\n",
    "    # re-normalize the eigenvectors to make them into distributions\n",
    "    p_xnpr /= trapz(p_xnpr, out_grid)\n",
    "    p_xnr /= trapz(p_xnr, out_grid)\n",
    "\n",
    "    return p_xnpr.real, p_xnr.real"
   ]
  },
  {
   "cell_type": "markdown",
   "id": "relevant-floor",
   "metadata": {},
   "source": [
    "Given the steady-states we compute the input and output works..."
   ]
  },
  {
   "cell_type": "code",
   "execution_count": 138,
   "id": "short-cylinder",
   "metadata": {},
   "outputs": [],
   "source": [
    "def compute_thermo_quants(ngrid=4000, dg=0.8, sm=0.1, ts=1e-3, alpha=2, return_ss=False):\n",
    "    \"\"\"Compute the thermodynamic quantities of input and output work.\"\"\"\n",
    "    \n",
    "    # ========== finding steady-state distributions ==========\n",
    "    out_grid = in_grid = linspace(-60.0, 60.0, int(ngrid))\n",
    "    p_xkpr, p_xkr = find_noisy_steady_states(out_grid, in_grid, dg, sm, ts, alpha)\n",
    "    \n",
    "    # regularization -- zero out entries that are sufficiently small and negative\n",
    "    p_xkr[logical_and(p_xkr > -finfo(\"float32\").eps, p_xkr < 0.0)] = 0.0\n",
    "    p_xkpr[logical_and(p_xkpr > -finfo(\"float32\").eps, p_xkpr < 0.0)] = 0.0\n",
    "    \n",
    "    # checks on distribution\n",
    "    # will trigger error if there are big enough negative entries that are not \n",
    "    # captured by the regularization above\n",
    "    assert (p_xkr >= 0.0).all(), \"p_xkr has non-positive entries!\"\n",
    "    assert (p_xkpr >= 0.0).all(), \"p_xkpr has non-positive entries!\"\n",
    "    \n",
    "    p_xkr_norm = trapz(p_xkr, out_grid)\n",
    "    p_xkpr_norm = trapz(p_xkpr, out_grid)\n",
    "    \n",
    "    if (abs(p_xkr_norm - 1.0) > (finfo(\"float32\").eps)): \n",
    "        print(f\"p_xkr not normalized! Normalization value {p_xkr_norm:.8f}\")\n",
    "    if (abs(p_xkpr_norm - 1.0) > (finfo(\"float32\").eps)):\n",
    "        print(f\"p_xkpr not normalized! Normalization value {p_xkpr_norm:.8f}\")\n",
    "    \n",
    "    # compute relevant moments\n",
    "    ## first moments\n",
    "    mu_xkpr = trapz(out_grid*p_xkpr, out_grid)\n",
    "    mu_xkr = trapz(out_grid*p_xkr, out_grid)\n",
    "    ## second moments\n",
    "    ms_xkpr = trapz((out_grid**2)*p_xkpr, out_grid)\n",
    "    ms_xkr = trapz((out_grid**2)*p_xkr, out_grid)\n",
    "    \n",
    "    W_in = 0.5*(ms_xkr-ms_xkpr)\n",
    "    W_out = dg*(mu_xkpr-mu_xkr)\n",
    "    \n",
    "    if return_ss:\n",
    "        return W_in, W_out, p_xkpr, p_xkr, out_grid\n",
    "    else:\n",
    "        return W_in"
   ]
  },
  {
   "cell_type": "markdown",
   "id": "marked-uganda",
   "metadata": {},
   "source": [
    "We compute the *information flow* using the steady-state relative coordinate distributions"
   ]
  },
  {
   "cell_type": "code",
   "execution_count": 144,
   "id": "intense-stranger",
   "metadata": {},
   "outputs": [],
   "source": [
    "def compute_info_flow(ngrid=4000, dg=0.8, sm=0.1, ts=1e-3, alpha=2, p_xkpr_in=None, p_xkr_in=None, inout_grid=None):\n",
    "    \n",
    "    # find steady-state distributions only if necessary\n",
    "    if ((p_xkpr_in is None) or (p_xkr_in is None) or (inout_grid is None)):\n",
    "        # define the grid of the solution\n",
    "        out_grid = in_grid = linspace(-60.0, 60.0, int(ngrid))\n",
    "        p_xkpr, p_xkr = find_noisy_steady_states(out_grid, in_grid, dg, sm, ts, alpha)\n",
    "    else:\n",
    "        p_xkpr = copy(p_xkpr_in)\n",
    "        p_xkr = copy(p_xkr_in)\n",
    "        out_grid = copy(inout_grid) \n",
    "    \n",
    "    # regularization: zero out entries that are too small\n",
    "    p_xkr[logical_and(p_xkr > -finfo(\"float32\").eps, p_xkr < 0.0)] = 0.0\n",
    "    p_xkpr[logical_and(p_xkpr > -finfo(\"float32\").eps, p_xkpr < 0.0)] = 0.0\n",
    "    \n",
    "    # before proceeding to computations check that the distributions are behaving properly\n",
    "    p_xkpr_norm = trapz(p_xkpr, out_grid)\n",
    "    p_xkr_norm = trapz(p_xkr, out_grid)\n",
    "    \n",
    "    # bail if negative entries in probability distribution\n",
    "    assert (p_xkpr >= 0.0).all(), \"p_xkpr has non-positive entries!\"\n",
    "    assert (p_xkr >= 0.0).all(), \"p_xkr has non-positive entries!\"\n",
    "    \n",
    "    # complain if normalization is not sufficient to within single-float\n",
    "    # but don't kill calculation\n",
    "    if (abs(p_xkpr_norm - 1.0) > (finfo(\"float32\").eps)):\n",
    "        print(f\"p_xkpr not normalized! Normalization value {p_xkpr_norm:.8f}\")\n",
    "    if (abs(p_xkr_norm - 1.0) > (finfo(\"float32\").eps)): \n",
    "        print(f\"p_xkr not normalized! Normalization value {p_xkr_norm:.8f}\")\n",
    "    \n",
    "    # ========== computing entropies ==========\n",
    "    \n",
    "    # computing the conditional entropies\n",
    "    H_xkr = -trapz(xlogy(p_xkr, p_xkr), out_grid)\n",
    "    H_xkpr = -trapz(xlogy(p_xkpr, p_xkpr), out_grid)\n",
    "    \n",
    "    return H_xkpr - H_xkr"
   ]
  },
  {
   "cell_type": "markdown",
   "id": "supposed-surgery",
   "metadata": {},
   "source": [
    "$\\alpha = 2$ is now no longer correct since the trap is reacting to noisy measurements. Therefore, we do bisection to find $\\alpha^{*}$, the value of $\\alpha$ that makes the input work zero:"
   ]
  },
  {
   "cell_type": "code",
   "execution_count": 145,
   "id": "communist-panel",
   "metadata": {},
   "outputs": [],
   "source": [
    "def optim(sm_in, ts_in, dg_in=0.8, ngrid_in=4000):\n",
    "    \n",
    "    def objective_func(alpha, dg, sm, ts, ngrid):\n",
    "        win = compute_thermo_quants(ngrid=ngrid, dg=dg, sm=sm, ts=ts, alpha=alpha, return_ss=False)\n",
    "        return abs(win)\n",
    "    \n",
    "    res = minimize_scalar(objective_func, bounds=(1e-2, 2.5), args=(dg_in, sm_in, ts_in, ngrid_in), method=\"bounded\")\n",
    "    \n",
    "    return res.x"
   ]
  },
  {
   "cell_type": "markdown",
   "id": "continuing-change",
   "metadata": {},
   "source": [
    "Putting all of this together we define a function that can compute the input and outpout work of our engine, as well as the information flow and the efficiency given experimental parameters:"
   ]
  },
  {
   "cell_type": "code",
   "execution_count": 148,
   "id": "professional-edward",
   "metadata": {},
   "outputs": [],
   "source": [
    "def compute_noisy_efficiency(SNR=10.0, fs=180.0, dg=0.8, ngrid=10000):\n",
    "    \"\"\"Run the calculation that computes the efficiency for the experimental ratchet parameters.\"\"\"\n",
    "    \n",
    "    sm = 1.0/SNR\n",
    "    ts = 1.0/fs\n",
    "\n",
    "    # find the alpha that makes the input work zero\n",
    "    astar = optim(sm, ts, dg, ngrid_in=int(ngrid))\n",
    "    \n",
    "    # compute the quantities needed for the efficiency\n",
    "    win, wout, p_xkpr, p_xkr, out_grid = compute_thermo_quants(\n",
    "        ngrid=int(ngrid), dg=dg, sm=sm, ts=ts, alpha=astar, return_ss=True\n",
    "        )\n",
    "    inf_flow = compute_info_flow(\n",
    "        ngrid=int(ngrid), dg=dg, sm=sm, ts=ts, alpha=astar, \n",
    "        p_xkpr_in=p_xkpr, p_xkr_in=p_xkr, inout_grid=out_grid\n",
    "        )\n",
    "    \n",
    "    # compute the efficiency\n",
    "    eta = wout/(win+inf_flow)\n",
    "        \n",
    "    return win, wout, inf_flow, eta"
   ]
  },
  {
   "cell_type": "code",
   "execution_count": 149,
   "id": "hungarian-offering",
   "metadata": {},
   "outputs": [
    {
     "data": {
      "text/plain": [
       "(3.922963065505769e-10,\n",
       " 0.001617662659954533,\n",
       " 0.018906127151750773,\n",
       " 0.08556287670152114)"
      ]
     },
     "execution_count": 149,
     "metadata": {},
     "output_type": "execute_result"
    }
   ],
   "source": [
    "compute_noisy_efficiency()"
   ]
  }
 ],
 "metadata": {
  "kernelspec": {
   "display_name": "Python 3",
   "language": "python",
   "name": "python3"
  },
  "language_info": {
   "codemirror_mode": {
    "name": "ipython",
    "version": 3
   },
   "file_extension": ".py",
   "mimetype": "text/x-python",
   "name": "python",
   "nbconvert_exporter": "python",
   "pygments_lexer": "ipython3",
   "version": "3.8.8"
  }
 },
 "nbformat": 4,
 "nbformat_minor": 5
}
